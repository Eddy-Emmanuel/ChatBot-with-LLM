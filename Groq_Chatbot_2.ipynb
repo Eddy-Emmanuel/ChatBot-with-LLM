{
 "cells": [
  {
   "cell_type": "code",
   "execution_count": 1,
   "id": "8a4880f5-475b-409e-b7ff-f7153f7f240e",
   "metadata": {},
   "outputs": [
    {
     "data": {
      "text/plain": [
       "True"
      ]
     },
     "execution_count": 1,
     "metadata": {},
     "output_type": "execute_result"
    }
   ],
   "source": [
    "import os\n",
    "from warnings import filterwarnings\n",
    "from dotenv import load_dotenv, find_dotenv\n",
    "filterwarnings(action=\"ignore\")\n",
    "\n",
    "from operator import itemgetter\n",
    "from collections import defaultdict\n",
    "from IPython.display import Markdown\n",
    "\n",
    "from langchain_chroma import Chroma\n",
    "from langchain_groq import ChatGroq\n",
    "from langchain_core.prompts import ChatPromptTemplate\n",
    "from langchain_core.prompts import MessagesPlaceholder\n",
    "from langchain_community.document_loaders import PyPDFLoader\n",
    "from langchain_core.chat_history import BaseChatMessageHistory\n",
    "from langchain_core.messages import trim_messages, HumanMessage\n",
    "from langchain_huggingface.embeddings import HuggingFaceEmbeddings\n",
    "from langchain_text_splitters import RecursiveCharacterTextSplitter\n",
    "from langchain_community.chat_message_histories import ChatMessageHistory\n",
    "from langchain.chains.combine_documents import create_stuff_documents_chain\n",
    "from langchain.chains import create_retrieval_chain, create_history_aware_retriever\n",
    "from langchain_core.runnables import RunnableWithMessageHistory, RunnablePassthrough\n",
    "\n",
    "load_dotenv(find_dotenv())"
   ]
  },
  {
   "cell_type": "code",
   "execution_count": 2,
   "id": "8f471782-91c3-46e6-99c0-1685a343441c",
   "metadata": {},
   "outputs": [],
   "source": [
    "os.environ[\"GROQ_API_KEY\"] = os.getenv(\"GROQ_API_KEY\")\n",
    "os.environ[\"HUGGINGFACEHUB_API_TOKEN\"] = os.getenv(\"HUGGINGFACEHUB_API_TOKEN\")"
   ]
  },
  {
   "cell_type": "code",
   "execution_count": 3,
   "id": "b5bffe13-a682-496e-99ad-c2efc6236bec",
   "metadata": {},
   "outputs": [
    {
     "data": {
      "text/plain": [
       "ChatGroq(client=<groq.resources.chat.completions.Completions object at 0x00000225EDD577D0>, async_client=<groq.resources.chat.completions.AsyncCompletions object at 0x00000225EDD74F90>, model_name='llama-3.2-90b-vision-preview', model_kwargs={}, groq_api_key=SecretStr('**********'))"
      ]
     },
     "execution_count": 3,
     "metadata": {},
     "output_type": "execute_result"
    }
   ],
   "source": [
    "groq_model = ChatGroq(model=\"llama-3.2-90b-vision-preview\")\n",
    "groq_model"
   ]
  },
  {
   "cell_type": "code",
   "execution_count": 4,
   "id": "ab95d46a-955b-4e84-b1d8-ef4c93d9a19f",
   "metadata": {},
   "outputs": [],
   "source": [
    "webbased_pdf_path = \"https://dpvipracollege.ac.in/wp-content/uploads/2022/12/h.k.dass_.pdf\""
   ]
  },
  {
   "cell_type": "code",
   "execution_count": 5,
   "id": "3ff8bacb-c2f8-4e8b-abaf-8ba1f8d11021",
   "metadata": {},
   "outputs": [],
   "source": [
    "pdf_loader = PyPDFLoader(file_path=webbased_pdf_path)\n",
    "loaded_pdf = pdf_loader.load()"
   ]
  },
  {
   "cell_type": "code",
   "execution_count": 6,
   "id": "e2c5dcd7-75ae-462a-b0c8-627f9a2d36fe",
   "metadata": {},
   "outputs": [],
   "source": [
    "text_splitter = RecursiveCharacterTextSplitter(chunk_size=128000, chunk_overlap=100)\n",
    "splitted_pdf_doc = text_splitter.split_documents(loaded_pdf)"
   ]
  },
  {
   "cell_type": "code",
   "execution_count": 7,
   "id": "1eea14b8-6db0-41da-b1bb-d4acc5d83622",
   "metadata": {},
   "outputs": [
    {
     "name": "stdout",
     "output_type": "stream",
     "text": [
      "WARNING:tensorflow:From C:\\Users\\Eddy\\anaconda3\\envs\\NLP_ENV\\Lib\\site-packages\\tf_keras\\src\\losses.py:2976: The name tf.losses.sparse_softmax_cross_entropy is deprecated. Please use tf.compat.v1.losses.sparse_softmax_cross_entropy instead.\n",
      "\n"
     ]
    },
    {
     "data": {
      "text/plain": [
       "HuggingFaceEmbeddings(model_name='all-MiniLM-L6-v2', cache_folder=None, model_kwargs={}, encode_kwargs={}, multi_process=False, show_progress=False)"
      ]
     },
     "execution_count": 7,
     "metadata": {},
     "output_type": "execute_result"
    }
   ],
   "source": [
    "model_embedding = HuggingFaceEmbeddings(model_name=\"all-MiniLM-L6-v2\")\n",
    "model_embedding"
   ]
  },
  {
   "cell_type": "code",
   "execution_count": 23,
   "id": "00c8b91e-8353-4714-a0c4-cdb473d58c80",
   "metadata": {},
   "outputs": [],
   "source": [
    "vector_store = Chroma.from_documents(documents=splitted_pdf_doc, embedding=model_embedding)"
   ]
  },
  {
   "cell_type": "code",
   "execution_count": 24,
   "id": "60b6e1f2-34c8-4245-a46c-951fe56378d6",
   "metadata": {},
   "outputs": [
    {
     "data": {
      "text/plain": [
       "VectorStoreRetriever(tags=['Chroma', 'HuggingFaceEmbeddings'], vectorstore=<langchain_chroma.vectorstores.Chroma object at 0x0000022585299C50>, search_type='mmr', search_kwargs={'k': 5, 'fetch_k': 1000})"
      ]
     },
     "execution_count": 24,
     "metadata": {},
     "output_type": "execute_result"
    }
   ],
   "source": [
    "vectorstore_retrieval = vector_store.as_retriever(search_type=\"mmr\", \n",
    "                                                  search_kwargs=dict(k=5, fetch_k=1000))\n",
    "vectorstore_retrieval"
   ]
  },
  {
   "cell_type": "code",
   "execution_count": 25,
   "id": "d4b17660-587c-4a99-8fd3-5f3369e4db91",
   "metadata": {},
   "outputs": [
    {
     "data": {
      "text/plain": [
       "ChatPromptTemplate(input_variables=['chat_history', 'context', 'input'], input_types={'chat_history': list[typing.Annotated[typing.Union[typing.Annotated[langchain_core.messages.ai.AIMessage, Tag(tag='ai')], typing.Annotated[langchain_core.messages.human.HumanMessage, Tag(tag='human')], typing.Annotated[langchain_core.messages.chat.ChatMessage, Tag(tag='chat')], typing.Annotated[langchain_core.messages.system.SystemMessage, Tag(tag='system')], typing.Annotated[langchain_core.messages.function.FunctionMessage, Tag(tag='function')], typing.Annotated[langchain_core.messages.tool.ToolMessage, Tag(tag='tool')], typing.Annotated[langchain_core.messages.ai.AIMessageChunk, Tag(tag='AIMessageChunk')], typing.Annotated[langchain_core.messages.human.HumanMessageChunk, Tag(tag='HumanMessageChunk')], typing.Annotated[langchain_core.messages.chat.ChatMessageChunk, Tag(tag='ChatMessageChunk')], typing.Annotated[langchain_core.messages.system.SystemMessageChunk, Tag(tag='SystemMessageChunk')], typing.Annotated[langchain_core.messages.function.FunctionMessageChunk, Tag(tag='FunctionMessageChunk')], typing.Annotated[langchain_core.messages.tool.ToolMessageChunk, Tag(tag='ToolMessageChunk')]], FieldInfo(annotation=NoneType, required=True, discriminator=Discriminator(discriminator=<function _get_type at 0x00000225ED1AE480>, custom_error_type=None, custom_error_message=None, custom_error_context=None))]]}, partial_variables={}, messages=[SystemMessagePromptTemplate(prompt=PromptTemplate(input_variables=['context'], input_types={}, partial_variables={}, template=\"You are a helpful advanced engineering maths teacher. learn from the received context and use the knowledge to answer the question showing full workings and stating the final answerif you don't know the answer, provide a consise response(not more than 3 sentence) stating that you don't know it while suggesting relevant alternative to help the student.Ensure your solution is in markdown format and is based in the context.\\n\\n{context}\"), additional_kwargs={}), MessagesPlaceholder(variable_name='chat_history'), HumanMessagePromptTemplate(prompt=PromptTemplate(input_variables=['input'], input_types={}, partial_variables={}, template='{input}'), additional_kwargs={})])"
      ]
     },
     "execution_count": 25,
     "metadata": {},
     "output_type": "execute_result"
    }
   ],
   "source": [
    "model_prompt = ChatPromptTemplate.from_messages([\n",
    "                        (\"system\", \"You are a helpful advanced engineering maths teacher. \"\n",
    "                                   \"learn from the received context and use the knowledge to answer the question showing full workings and stating the final answer\"\n",
    "                                   \"if you don't know the answer, provide a consise response(not more than 3 sentence) stating that you don't know it \"\n",
    "                                   \"while suggesting relevant alternative to help the student.\"\n",
    "                                   \"Ensure your solution is in markdown format and is based in the context.\\n\\n\"\n",
    "                                   \"{context}\"),\n",
    "                        MessagesPlaceholder(\"chat_history\"),\n",
    "                        (\"human\", \"{input}\")\n",
    "                    ])\n",
    "\n",
    "model_prompt"
   ]
  },
  {
   "cell_type": "code",
   "execution_count": 26,
   "id": "b178352e-4b32-46c4-9357-b7c0ce6e63c1",
   "metadata": {},
   "outputs": [
    {
     "data": {
      "text/plain": [
       "ChatPromptTemplate(input_variables=['chat_history', 'input'], input_types={'chat_history': list[typing.Annotated[typing.Union[typing.Annotated[langchain_core.messages.ai.AIMessage, Tag(tag='ai')], typing.Annotated[langchain_core.messages.human.HumanMessage, Tag(tag='human')], typing.Annotated[langchain_core.messages.chat.ChatMessage, Tag(tag='chat')], typing.Annotated[langchain_core.messages.system.SystemMessage, Tag(tag='system')], typing.Annotated[langchain_core.messages.function.FunctionMessage, Tag(tag='function')], typing.Annotated[langchain_core.messages.tool.ToolMessage, Tag(tag='tool')], typing.Annotated[langchain_core.messages.ai.AIMessageChunk, Tag(tag='AIMessageChunk')], typing.Annotated[langchain_core.messages.human.HumanMessageChunk, Tag(tag='HumanMessageChunk')], typing.Annotated[langchain_core.messages.chat.ChatMessageChunk, Tag(tag='ChatMessageChunk')], typing.Annotated[langchain_core.messages.system.SystemMessageChunk, Tag(tag='SystemMessageChunk')], typing.Annotated[langchain_core.messages.function.FunctionMessageChunk, Tag(tag='FunctionMessageChunk')], typing.Annotated[langchain_core.messages.tool.ToolMessageChunk, Tag(tag='ToolMessageChunk')]], FieldInfo(annotation=NoneType, required=True, discriminator=Discriminator(discriminator=<function _get_type at 0x00000225ED1AE480>, custom_error_type=None, custom_error_message=None, custom_error_context=None))]]}, partial_variables={}, messages=[SystemMessagePromptTemplate(prompt=PromptTemplate(input_variables=[], input_types={}, partial_variables={}, template='Given a chat history and the latest user question which might reference context in the chat history, formulate a standalone question which can be understood without the chat history. Do NOT answer the question, just reformulate it if needed and otherwise return it as is.'), additional_kwargs={}), MessagesPlaceholder(variable_name='chat_history'), HumanMessagePromptTemplate(prompt=PromptTemplate(input_variables=['input'], input_types={}, partial_variables={}, template='{input}'), additional_kwargs={})])"
      ]
     },
     "execution_count": 26,
     "metadata": {},
     "output_type": "execute_result"
    }
   ],
   "source": [
    "history_prompt = ChatPromptTemplate.from_messages(\n",
    "    [\n",
    "        (\"system\", \"Given a chat history and the latest user question \"\n",
    "                    \"which might reference context in the chat history, \"\n",
    "                    \"formulate a standalone question which can be understood \"\n",
    "                    \"without the chat history. Do NOT answer the question, \"\n",
    "                    \"just reformulate it if needed and otherwise return it as is.\"),\n",
    "        MessagesPlaceholder(\"chat_history\"),\n",
    "        (\"human\", \"{input}\"),\n",
    "    ]\n",
    ")\n",
    "\n",
    "history_prompt"
   ]
  },
  {
   "cell_type": "code",
   "execution_count": 27,
   "id": "3c7372c6-55c8-400a-bd01-ce1a3479e499",
   "metadata": {},
   "outputs": [
    {
     "data": {
      "text/plain": [
       "RunnableBinding(bound=RunnableAssign(mapper={\n",
       "  context: RunnableBinding(bound=RunnableBranch(branches=[(RunnableLambda(lambda x: not x.get('chat_history', False)), RunnableLambda(lambda x: x['input'])\n",
       "           | VectorStoreRetriever(tags=['Chroma', 'HuggingFaceEmbeddings'], vectorstore=<langchain_chroma.vectorstores.Chroma object at 0x0000022585299C50>, search_type='mmr', search_kwargs={'k': 5, 'fetch_k': 1000}))], default=ChatPromptTemplate(input_variables=['chat_history', 'input'], input_types={'chat_history': list[typing.Annotated[typing.Union[typing.Annotated[langchain_core.messages.ai.AIMessage, Tag(tag='ai')], typing.Annotated[langchain_core.messages.human.HumanMessage, Tag(tag='human')], typing.Annotated[langchain_core.messages.chat.ChatMessage, Tag(tag='chat')], typing.Annotated[langchain_core.messages.system.SystemMessage, Tag(tag='system')], typing.Annotated[langchain_core.messages.function.FunctionMessage, Tag(tag='function')], typing.Annotated[langchain_core.messages.tool.ToolMessage, Tag(tag='tool')], typing.Annotated[langchain_core.messages.ai.AIMessageChunk, Tag(tag='AIMessageChunk')], typing.Annotated[langchain_core.messages.human.HumanMessageChunk, Tag(tag='HumanMessageChunk')], typing.Annotated[langchain_core.messages.chat.ChatMessageChunk, Tag(tag='ChatMessageChunk')], typing.Annotated[langchain_core.messages.system.SystemMessageChunk, Tag(tag='SystemMessageChunk')], typing.Annotated[langchain_core.messages.function.FunctionMessageChunk, Tag(tag='FunctionMessageChunk')], typing.Annotated[langchain_core.messages.tool.ToolMessageChunk, Tag(tag='ToolMessageChunk')]], FieldInfo(annotation=NoneType, required=True, discriminator=Discriminator(discriminator=<function _get_type at 0x00000225ED1AE480>, custom_error_type=None, custom_error_message=None, custom_error_context=None))]]}, partial_variables={}, messages=[SystemMessagePromptTemplate(prompt=PromptTemplate(input_variables=[], input_types={}, partial_variables={}, template='Given a chat history and the latest user question which might reference context in the chat history, formulate a standalone question which can be understood without the chat history. Do NOT answer the question, just reformulate it if needed and otherwise return it as is.'), additional_kwargs={}), MessagesPlaceholder(variable_name='chat_history'), HumanMessagePromptTemplate(prompt=PromptTemplate(input_variables=['input'], input_types={}, partial_variables={}, template='{input}'), additional_kwargs={})])\n",
       "           | ChatGroq(client=<groq.resources.chat.completions.Completions object at 0x00000225EDD577D0>, async_client=<groq.resources.chat.completions.AsyncCompletions object at 0x00000225EDD74F90>, model_name='llama-3.2-90b-vision-preview', model_kwargs={}, groq_api_key=SecretStr('**********'))\n",
       "           | StrOutputParser()\n",
       "           | VectorStoreRetriever(tags=['Chroma', 'HuggingFaceEmbeddings'], vectorstore=<langchain_chroma.vectorstores.Chroma object at 0x0000022585299C50>, search_type='mmr', search_kwargs={'k': 5, 'fetch_k': 1000})), kwargs={}, config={'run_name': 'retrieve_documents'}, config_factories=[])\n",
       "})\n",
       "| RunnableAssign(mapper={\n",
       "    answer: RunnableBinding(bound=RunnableBinding(bound=RunnableAssign(mapper={\n",
       "              context: RunnableLambda(format_docs)\n",
       "            }), kwargs={}, config={'run_name': 'format_inputs'}, config_factories=[])\n",
       "            | ChatPromptTemplate(input_variables=['chat_history', 'context', 'input'], input_types={'chat_history': list[typing.Annotated[typing.Union[typing.Annotated[langchain_core.messages.ai.AIMessage, Tag(tag='ai')], typing.Annotated[langchain_core.messages.human.HumanMessage, Tag(tag='human')], typing.Annotated[langchain_core.messages.chat.ChatMessage, Tag(tag='chat')], typing.Annotated[langchain_core.messages.system.SystemMessage, Tag(tag='system')], typing.Annotated[langchain_core.messages.function.FunctionMessage, Tag(tag='function')], typing.Annotated[langchain_core.messages.tool.ToolMessage, Tag(tag='tool')], typing.Annotated[langchain_core.messages.ai.AIMessageChunk, Tag(tag='AIMessageChunk')], typing.Annotated[langchain_core.messages.human.HumanMessageChunk, Tag(tag='HumanMessageChunk')], typing.Annotated[langchain_core.messages.chat.ChatMessageChunk, Tag(tag='ChatMessageChunk')], typing.Annotated[langchain_core.messages.system.SystemMessageChunk, Tag(tag='SystemMessageChunk')], typing.Annotated[langchain_core.messages.function.FunctionMessageChunk, Tag(tag='FunctionMessageChunk')], typing.Annotated[langchain_core.messages.tool.ToolMessageChunk, Tag(tag='ToolMessageChunk')]], FieldInfo(annotation=NoneType, required=True, discriminator=Discriminator(discriminator=<function _get_type at 0x00000225ED1AE480>, custom_error_type=None, custom_error_message=None, custom_error_context=None))]]}, partial_variables={}, messages=[SystemMessagePromptTemplate(prompt=PromptTemplate(input_variables=['context'], input_types={}, partial_variables={}, template=\"You are a helpful advanced engineering maths teacher. learn from the received context and use the knowledge to answer the question showing full workings and stating the final answerif you don't know the answer, provide a consise response(not more than 3 sentence) stating that you don't know it while suggesting relevant alternative to help the student.Ensure your solution is in markdown format and is based in the context.\\n\\n{context}\"), additional_kwargs={}), MessagesPlaceholder(variable_name='chat_history'), HumanMessagePromptTemplate(prompt=PromptTemplate(input_variables=['input'], input_types={}, partial_variables={}, template='{input}'), additional_kwargs={})])\n",
       "            | ChatGroq(client=<groq.resources.chat.completions.Completions object at 0x00000225EDD577D0>, async_client=<groq.resources.chat.completions.AsyncCompletions object at 0x00000225EDD74F90>, model_name='llama-3.2-90b-vision-preview', model_kwargs={}, groq_api_key=SecretStr('**********'))\n",
       "            | StrOutputParser(), kwargs={}, config={'run_name': 'stuff_documents_chain'}, config_factories=[])\n",
       "  }), kwargs={}, config={'run_name': 'retrieval_chain'}, config_factories=[])"
      ]
     },
     "execution_count": 27,
     "metadata": {},
     "output_type": "execute_result"
    }
   ],
   "source": [
    "history_aware_bot = create_history_aware_retriever(llm=groq_model, retriever=vectorstore_retrieval, prompt=history_prompt)\n",
    "qa_chain = create_stuff_documents_chain(llm=groq_model, prompt=model_prompt)\n",
    "math_model = create_retrieval_chain(retriever=history_aware_bot, combine_docs_chain=qa_chain)\n",
    "\n",
    "math_model"
   ]
  },
  {
   "cell_type": "code",
   "execution_count": 28,
   "id": "6bd5b766-7ab4-4f40-aeab-506f7973e28d",
   "metadata": {},
   "outputs": [],
   "source": [
    "class BotMemory:\n",
    "    def __init__(self):\n",
    "        self.storage = defaultdict(ChatMessageHistory)\n",
    "\n",
    "    def CheckClientId(self, session_id:str)->BaseChatMessageHistory:\n",
    "        return self.storage[session_id]"
   ]
  },
  {
   "cell_type": "code",
   "execution_count": 29,
   "id": "16647ae9-5905-4eb6-a424-327420cf4803",
   "metadata": {},
   "outputs": [],
   "source": [
    "bot_memory = BotMemory()"
   ]
  },
  {
   "cell_type": "code",
   "execution_count": 43,
   "id": "11e3b719-367a-4c75-8d7f-fe4630c209ab",
   "metadata": {},
   "outputs": [
    {
     "data": {
      "text/plain": [
       "RunnableWithMessageHistory(bound=RunnableBinding(bound=RunnableBinding(bound=RunnableAssign(mapper={\n",
       "  chat_history: RunnableBinding(bound=RunnableLambda(_enter_history), kwargs={}, config={'run_name': 'load_history'}, config_factories=[])\n",
       "}), kwargs={}, config={'run_name': 'insert_history'}, config_factories=[])\n",
       "| RunnableBinding(bound=RunnableLambda(_call_runnable_sync), kwargs={}, config={'run_name': 'check_sync_or_async'}, config_factories=[]), kwargs={}, config={'run_name': 'RunnableWithMessageHistory'}, config_factories=[]), kwargs={}, config={}, config_factories=[], get_session_history=<bound method BotMemory.CheckClientId of <__main__.BotMemory object at 0x0000022588EA0490>>, input_messages_key='input', output_messages_key='answer', history_messages_key='chat_history', history_factory_config=[ConfigurableFieldSpec(id='session_id', annotation=<class 'str'>, name='Session ID', description='Unique identifier for a session.', default='', is_shared=True, dependencies=None)])"
      ]
     },
     "execution_count": 43,
     "metadata": {},
     "output_type": "execute_result"
    }
   ],
   "source": [
    "math_bot_with_history = RunnableWithMessageHistory(runnable=math_model, \n",
    "                                                   get_session_history=bot_memory.CheckClientId,\n",
    "                                                   input_messages_key=\"input\",\n",
    "                                                   history_messages_key=\"chat_history\",\n",
    "                                                   output_messages_key=\"answer\"\n",
    "                                                   )\n",
    "\n",
    "math_bot_with_history"
   ]
  },
  {
   "cell_type": "code",
   "execution_count": 45,
   "id": "98d3a69a-6415-4ee6-959c-a970de565eff",
   "metadata": {},
   "outputs": [
    {
     "name": "stdin",
     "output_type": "stream",
     "text": [
      "User: Hello, my name is Edifon Emmanuel Jimmy, a 500level student of Electrical Electronics Engineering University ofBenin\n"
     ]
    },
    {
     "name": "stdout",
     "output_type": "stream",
     "text": [
      "Bot: Hello Edifon Emmanuel Jimmy, nice to meet you. I'm your advanced engineering mathematics teacher. I see you're a 500-level student of Electrical Electronics Engineering at the University of Benin. That's great. I'm here to help you with any questions or problems you have in your advanced engineering mathematics course. What topic are you currently studying or what specific problem are you struggling with?\n",
      "\n"
     ]
    },
    {
     "name": "stdin",
     "output_type": "stream",
     "text": [
      "User: whats my name?\n"
     ]
    },
    {
     "name": "stdout",
     "output_type": "stream",
     "text": [
      "Bot: Your name is Edifon Emmanuel Jimmy.\n",
      "\n"
     ]
    },
    {
     "name": "stdin",
     "output_type": "stream",
     "text": [
      "User: Whats my level\n"
     ]
    },
    {
     "name": "stdout",
     "output_type": "stream",
     "text": [
      "Bot: You're a 500-level student.\n",
      "\n"
     ]
    },
    {
     "name": "stdin",
     "output_type": "stream",
     "text": [
      "User: ok\n"
     ]
    },
    {
     "name": "stdout",
     "output_type": "stream",
     "text": [
      "Bot: You seem ready to dive into some advanced engineering mathematics. What topic or problem would you like to tackle first?\n",
      "\n"
     ]
    },
    {
     "name": "stdin",
     "output_type": "stream",
     "text": [
      "User: end\n"
     ]
    }
   ],
   "source": [
    "while True:\n",
    "    user_input = input(\"User:\")\n",
    "    if user_input != \"end\":                \n",
    "        bot_response = math_bot_with_history.invoke(\n",
    "                                                  {\"input\": user_input}, \n",
    "                                                  config={\"configurable\": {\"session_id\": \"Eddy\"}}\n",
    "                                                  )\n",
    "        print(f\"Bot: {bot_response['answer']}\", end=\"\\n\\n\")\n",
    "    else:\n",
    "        break"
   ]
  },
  {
   "cell_type": "code",
   "execution_count": 47,
   "id": "359dbaa2-b90f-43b3-bde3-396ec7d7b5fc",
   "metadata": {},
   "outputs": [
    {
     "data": {
      "text/plain": [
       "{'input': 'ok',\n",
       " 'chat_history': [HumanMessage(content='Hello, my name is Edifon Emmanuel Jimmy, a 500level student of Electrical Electronics Engineering University ofBenin', additional_kwargs={}, response_metadata={}),\n",
       "  AIMessage(content=\"Hello Edifon Emmanuel Jimmy, nice to meet you. I'm your advanced engineering mathematics teacher. I see you're a 500-level student of Electrical Electronics Engineering at the University of Benin. That's great. I'm here to help you with any questions or problems you have in your advanced engineering mathematics course. What topic are you currently studying or what specific problem are you struggling with?\", additional_kwargs={}, response_metadata={}),\n",
       "  HumanMessage(content='whats my name?', additional_kwargs={}, response_metadata={}),\n",
       "  AIMessage(content='Your name is Edifon Emmanuel Jimmy.', additional_kwargs={}, response_metadata={}),\n",
       "  HumanMessage(content='Whats my level', additional_kwargs={}, response_metadata={}),\n",
       "  AIMessage(content=\"You're a 500-level student.\", additional_kwargs={}, response_metadata={})],\n",
       " 'context': [Document(metadata={'page': 4, 'source': 'https://dpvipracollege.ac.in/wp-content/uploads/2022/12/h.k.dass_.pdf'}, page_content='(v)\\nPREFACE TO THE TWENTYFIRST REVISED EDITION\\nI am happy to be able to bring out this  revised edition.\\nMisprints and errors which came to my notice have been corrected.\\nSuggestions and healthy criticism from students and teachers to improve the book shall be\\npersonally acknowledged and deeply appreciated to help me to make it an ideal book for all.\\nWe are thankful to the Management Team and the Editorial Department of S. Chand & Company\\nPvt. Ltd. for all help and support in the publication of this book.\\nD-1/87, Janakpuri                       H.K. DASS\\nNew Delhi-110 058\\nTel. 28525078, 28521776\\nMob. 9350055078\\nhk_dass@yahoo.com\\nDisclaimer : While the author of this book have made every effort to avoid any mistake or omission and have used their skill,\\nexpertise and knowledge to the best of their capacity to provide accurate and updated information. The author and S. Chand do not\\ngive any representation or warranty with respect to the accuracy or completeness of the contents of this publication and are selling\\nthis publication on the condition and understanding that they shall not be made liable in any manner whatsoever. S.Chand and the\\nauthor expressly disclaim all and any liability/responsibility to any person, whether a purchaser or reader of this publication or not,\\nin respect of anything and everything forming part of the contents of this publication. S. Chand shall not be responsible for any\\nerrors, omissions or damages arising out of the use of the information contained in this publication.\\nFurther, the appearance of the personal name, location, place and incidence, if any; in the illustrations used herein is purely\\ncoincidental and work of imagination. Thus the same should in no manner be termed as defamatory to any individual.\\nCreated with Print2PDF. To remove this line, buy a licenseat:http://www.software602.com/'),\n",
       "  Document(metadata={'page': 786, 'source': 'https://dpvipracollege.ac.in/wp-content/uploads/2022/12/h.k.dass_.pdf'}, page_content='Probability 771\\n(ii) Boy Girl\\n0 1\\n1 0\\nProbability  of zero boy in case II\\n= 0.3 × 0.5 = 0.15\\n(iii)\\nBoy     Girl\\n  0         2\\n  1         1\\n  2         0\\nIn this case probability of zero boy = 0.5 × \\n1\\n3  = 0.167\\nConsidering all the three cases, the probability of zero boy\\n               = 0.2 + 0.15 + 0.167 = 0.517 Ans.\\nExample 16. A husband and wife appear in an interview for two vacancies in the same post. The\\nprobability of husband’s selection is \\n1\\n7  and that of wife ‘s selection is\\n1\\n5 . What is the probability\\nthat\\n(i) both of them will be selected. (ii) only one of them will be selected and\\n(iii) none of them will be selected ?\\nSolution. P (husband’s selection) = 1\\n7 , P (wife’s selection) = 1\\n5\\n(i) P (both selected) = \\n11 1\\n75 35\\uf0b4\\uf03d\\n(ii) P (only one selected) = P (only husband’s selection) + P (only wife’s selection)\\n= \\n14 16 10 2\\n75 57 35 7\\uf0b4\\uf02b \\uf0b4\\uf03d \\uf03d\\n(iii) P (none of them will be sel ected) = 64 24\\n75 35\\uf0b4\\uf03d Ans.\\nExample 17. A problem of statistics is given to three students A, B and C w hose chances of\\nsolving it are 13,24 and 1\\n4 respectively. What is the probability that the problem will be solved?\\n(A.M.I.E., Winter 2001)\\nSolution.  The probability that A can solve the problem = 1\\n2\\nThe probability that A cannot solve the problem = 1– 1\\n2 .\\nSimilarly  the probability that B and C cannot solve the problem are\\n31– 4\\n\\uf0e6\\uf0f6\\n\\uf0e7\\uf0f7\\uf0e8\\uf0f8 and \\n11– 4\\n\\uf0e6\\uf0f6\\n\\uf0e7\\uf0f7\\uf0e8\\uf0f8\\n\\uf05c The probability that A, B, C cannot solve the problem\\n                    = \\n131 113 31– 1– 1–244 244 32\\n\\uf0e6\\uf0f6 \\uf0e6\\uf0f6 \\uf0e6\\uf0f6\\uf0b4\\uf0b4 \\uf03d\\uf0b4 \\uf0b4\\uf03d\\uf0e7\\uf0f7 \\uf0e7\\uf0f7 \\uf0e7\\uf0f7\\uf0e8\\uf0f8 \\uf0e8\\uf0f8 \\uf0e8\\uf0f8 . .\\nCreated with Print2PDF. To remove this line, buy a licenseat:http://www.software602.com/'),\n",
       "  Document(metadata={'page': 1082, 'source': 'https://dpvipracollege.ac.in/wp-content/uploads/2022/12/h.k.dass_.pdf'}, page_content='Tensor Analysis 1067\\nTherefore by quotient law Aki is a second order tensor.\\nLemma 2.\\nCofactor of in the detterminantij ij\\nij\\nij\\nAAe\\nA\\n\\uf03d\\nWe know from the theory of determinants.\\n1B ut 0ij ij ijAa a\\uf03d\\uf0b9\\nHence determinant 0ijA \\uf0b9\\nWe shall now show that    eij = aij\\n  ekiAij = \\uf064kj\\nTake inner product with aji\\nekiAijajl = \\uf064kiajl\\n  eki \\uf064il = akl\\n        ekl = akl\\nDef. Two second order non-singular tensors aij and Aij are said to be conjugate (or reciprocal)\\ntensors if they satisfy the equation\\n  Aki aij, = \\uf064kj\\n18.30 EIGEN VALUES AND EIGEN VECTORS OF A TENSOR OF SECOND ORDER\\nDef. A scalar, \\uf06c , is called an eigen value of second order  tensor aij,  if there exists a non-\\nzero vector x, such that aijxj = \\uf06cxi. This equation is equivalent to\\nij ji jjax x\\uf03d\\uf06c \\uf064\\nor \\uf028 \\uf029 0ij ij jax \\uf02d\\uf06c\\uf064\\uf03d         ... (1)\\nsince 0jx \\uf0b9 ,   Hence 0ij ija \\uf02d\\uf06c\\uf064\\uf03d ...(2)\\nThis is a necessary condition for \\uf06c, to be eigen value. Eq. (2) is cubic eq. in \\uf06c and therefore\\nin general will give us three eigen values may not all be distinct corresponding to the tensor aij.\\nConsider now any system of co-ordinate axes OX1, OX2, OX3, and let aij be the component of the\\ngiven tensor in this system. Consider now a vector xj, whose components relatively to OX1, OX2, OX3\\nare given on solving (1). As the components of xi are not zero r elatively to one system OX1, OX2,\\nOX3, this vector can be zero vector i.e. its components relatively to any system of axes can not all be\\nzero.\\nThe tensor eq. (1) being true for one system OX1, OX2, OX3 will be true for every system of\\naxes.\\nThus we see that every second order tensor possesses three eigen  values, not necessarily  all\\ndistinct. These eigen values are the roots of the cubic 0ij ija \\uf02d\\uf06c\\uf064\\uf03d  in \\uf06c . Also to each eigen\\nvalue corresponds an eigen vector. The vector xi corresponding to eigen  value \\uf06c is called an\\neigen vector.\\n18.31 THEOREM\\nOrthogonality  of eigen vectors corresponding to distinct eigen values of a symmetric second\\norder tensor.\\nProof. Let aij be a symmetric second order tensor, and let xi a nd yi b e the eigen vectors\\ncorresponding to the distinct eigen values 1\\uf06c  and 2\\uf06c ( 12\\uf06c\\uf0b9 \\uf06c )we have\\nCreated with Print2PDF. To remove this line, buy a licenseat:http://www.software602.com/'),\n",
       "  Document(metadata={'page': 115, 'source': 'https://dpvipracollege.ac.in/wp-content/uploads/2022/12/h.k.dass_.pdf'}, page_content='100 Multiple Integral\\nThe region of integration is shown by shaded portion in the figure bounded by parabola y = x2\\nand the line y = 2 – x.\\nThe point of intersection of the parabola y = x2 and the line y = 2 – x is B (1, 1).\\nIn the figure below (left) we have taken a strip parallel to y-axis and the order of integration is\\n2\\n12 –\\n0\\nx\\nxxd x yd y\\uf0f2\\uf0f2\\nIn the second figure above we have taken a strip parallel to x-axis in the area OBC and second\\nstrip in the area ABC. The limits of x in the area OBC are 0 and y and the limits of x in the\\narea ABC are 0 and 2 – y.\\n= \\n2–2212 2 – 1\\n00 1 0 0 0\\n0022\\ny y\\nyy y xxy dy x dx y dx x dx y dy y dy\\n\\uf0e9\\uf0f9 \\uf0e9\\uf0f9\\n\\uf02b\\uf03d \\uf02b \\uf0ea\\uf0fa \\uf0ea\\uf0fa\\n\\uf0ea\\uf0fa \\uf0ea\\uf0fa\\uf0eb\\uf0fb \\uf0eb\\uf0fb\\n\\uf0f2\\uf0f2 \\uf0f2\\uf0f2 \\uf0f2 \\uf0f2\\n= \\n1312 222 2 3\\n01 1\\n0\\n11 1 1 (2 – ) (4 – 4 )22 2 3 2\\nyy dy y y dy y y y dy\\n\\uf0e9\\uf0f9\\n\\uf02b\\uf03d \\uf02b \\uf02b \\uf0ea\\uf0fa\\n\\uf0ea\\uf0fa\\uf0eb\\uf0fb\\n\\uf0f2\\uf0f2 \\uf0f2\\n= \\n24\\n23\\n1\\n11 4 11 3 2 412– 8 – 4 – 2 –62 3 4 62 3 34\\nyyy\\n\\uf0e9\\uf0f9 \\uf0e9\\uf0f9\\uf02b\\uf02b \\uf03d \\uf02b \\uf02b \\uf02b\\uf0ea\\uf0fa \\uf0ea\\uf0fa\\uf0eb\\uf0fb\\uf0ea\\uf0fa\\uf0eb\\uf0fb\\n= 1 1 96 – 128 48 – 24 16 – 3 1 5 9 3\\n62 1 2 62 42 48\\n\\uf02b\\uf02b\\uf0e9\\uf0f9\\uf02b\\uf03d \\uf02b \\uf03d \\uf03d\\uf0ea\\uf0fa\\uf0eb\\uf0fb Ans.\\nExample 14. Evaluate the integral \\n2\\n00 exp –\\nx xxd x d y y\\n\\uf0a5 \\uf0e6\\uf0f6\\n\\uf0e7\\uf0f7\\uf0e7\\uf0f7\\uf0e8\\uf0f8\\n\\uf0f2\\uf0f2 by changing the order of\\nintegration (U.P . I Semester Dec., 2005)\\nSolution. Limits are given\\ny = 0 and y = x\\nx = 0 and x = \\uf0a5\\nHere, the elementary strip PQ extends from y = 0\\nto  y  = x and this vertical strip slides from\\nx = 0 to x = \\uf0a5.\\nThe region of integration is shown by shaded\\nportion in the figure bounded by y = 0, y = x,\\nx = 0 and x = \\uf0a5.\\nOn changing the order of integration, we first\\nintegrate with respect to x along a horizontal strip\\nRS which extends from x = y to x = \\uf0a5 and this\\nhorizontal strip slides from y = 0 to y = \\uf0a5 to cover\\nthe given region of integration.\\nNew limits :\\nx = y and x = \\uf0a5\\ny = 0 and y = \\uf0a5\\nWe first integrate with respect to x.\\nThus,\\n2\\n–\\n0\\nx\\ny\\nydy x e dx\\n\\uf0a5\\uf0a5\\n\\uf0f2\\uf0f2 = \\n2\\n–\\n0\\n2––2\\nx\\ny\\ny\\nyxdy e dx y\\n\\uf0a5\\uf0a5\\n\\uf0e6\\uf0f6\\n\\uf0e7\\uf0f7\\n\\uf0e7\\uf0f7\\n\\uf0e7\\uf0f7\\uf0e8\\uf0f8\\n\\uf0f2\\uf0f2\\n= \\n2 2\\n– – –2\\n000 –022 2\\nx y\\nyy\\ny\\nyy ydy e dy e e dy\\n\\uf0a5\\n\\uf0a5\\uf0a5\\uf0a5\\n\\uf0e9\\uf0f9 \\uf0e9\\uf0f9\\uf0ea\\uf0fa \\uf0ea\\uf0fa\\uf03d\\uf02b\\uf03d\\uf0ea\\uf0fa \\uf0ea\\uf0fa\\uf0ea\\uf0fa \\uf0ea\\uf0fa\\uf0eb\\uf0fb\\uf0eb\\uf0fb\\n\\uf0f2\\uf0f2\\uf0f2'),\n",
       "  Document(metadata={'page': 1222, 'source': 'https://dpvipracollege.ac.in/wp-content/uploads/2022/12/h.k.dass_.pdf'}, page_content='Fuzzy Set 1207\\n(iii) Mechanical Engineering\\nIt was realised around mid-1980s that fuzzy set theory is eminently suited for mechani-\\ncal engineering design.\\nA wide range of material might be used in mechanical engineering and the member-\\nship function is expressed in terms of corrosion, thermal expansion or s ome other\\nmeasurable material property. A combination of several properties including the cost\\nof different materials, may also be used.\\n(iv) Industrial Engineering\\nTwo well-developed areas of fuzzy set theory t hat are directly r elevant to industrial\\nengineering are fuzzy control and fuzzy decision making.\\nNumerous their applications of fuzzy set theory i n industrial engineering have also\\nbeen explored to various degrees, Fuzzy set are convenient for estimating the service\\nlife of a given piece of equipment for various conditions under which it operates.\\nIn industrial environment, fuzzy sets are also applied in designing built-in tests for\\nindustrial systems.\\n(v) Computer Engineering\\nIn mid 1980s, when the utility o f fuzzy controllers became increasingly visible, the\\nneed for c omputer hardware to implement the various operations involved in fuzzy\\nlogic and approximate reasoning has been recognised. All inference rules of a complex\\nfuzzy inferences engine are processed in parallel. This increases efficiency\\ntremendously  a nd extends the scope of applicability  o f fuzzy c ontrollers, and\\npotentially, other fuzzy expert systems. In digital mode, fuzzy sets are represented as\\nvectors of numbers (0, 1). Analog fuzzy hardware is characterised by high speed and\\ngood compatibility  w ith sensors, it is thus suitable for c omplex on-line fuzzy\\ncontrollers.\\n(vi) Reliability theory\\nThe classical theory of reliability i s developed in world war II on the following as-\\nsumptions.\\n(a) Assumption of dichotomous states. At any given time, the engineering products\\nis either in functioning state or in failed state.\\n(b) Probability assumption. The behaviour of the engineering product with respect\\nto the two critical states (functioning and failed) can adquately be characterised\\nin terms of probability theory.\\nAn alternative reliability theory, rooted in fuzzy sets and probability.\\n(c) Assumption of fuzzy sets. At any t ime the engineering products may b e in\\nfunctioning states to some degree and in failed state to another degree.\\n(d) Possibility assumption. The behaviour of the engineering product with respect to\\nthe two critical fuzzy states (fuzzy functioning state and fuzzy failed state) can\\nadequately b e characterised in terms of possibility theory, while second theory\\nbased on fuzzy sets is more meaningful.\\n(vii) Robotics\\nThe fuzzy set theory that is relevant to robotics include approximate reasoning, fuzzy\\ncontrollers and other kind of fuzzy s ystems, fuzzy p attern recognition and image\\nprocessing, fuzzy data bases.\\nEXERCISE 23.2\\n1. Write short note on the following:\\nFuzzy logic affects many disciplines. (Rajiv Gandhi University, M.P. Summer 2001)\\n2. Define with example\\nFuzzy graph, fuzzy relations. (Ravi Shanker Uni. I semester  2 003)\\nCreated with Print2PDF. To remove this line, buy a licenseat:http://www.software602.com/')],\n",
       " 'answer': 'You seem ready to dive into some advanced engineering mathematics. What topic or problem would you like to tackle first?'}"
      ]
     },
     "execution_count": 47,
     "metadata": {},
     "output_type": "execute_result"
    }
   ],
   "source": [
    "bot_response"
   ]
  },
  {
   "cell_type": "code",
   "execution_count": null,
   "id": "9333cf41-6155-4fb1-b1bb-ff47be2d4e19",
   "metadata": {},
   "outputs": [],
   "source": []
  }
 ],
 "metadata": {
  "kernelspec": {
   "display_name": "Python [conda env:NLP_ENV]",
   "language": "python",
   "name": "conda-env-NLP_ENV-py"
  },
  "language_info": {
   "codemirror_mode": {
    "name": "ipython",
    "version": 3
   },
   "file_extension": ".py",
   "mimetype": "text/x-python",
   "name": "python",
   "nbconvert_exporter": "python",
   "pygments_lexer": "ipython3",
   "version": "3.11.11"
  }
 },
 "nbformat": 4,
 "nbformat_minor": 5
}
